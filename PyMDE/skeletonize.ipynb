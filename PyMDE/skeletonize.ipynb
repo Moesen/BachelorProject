{
 "metadata": {
  "language_info": {
   "codemirror_mode": {
    "name": "ipython",
    "version": 3
   },
   "file_extension": ".py",
   "mimetype": "text/x-python",
   "name": "python",
   "nbconvert_exporter": "python",
   "pygments_lexer": "ipython3",
   "version": "3.9.1"
  },
  "orig_nbformat": 2,
  "kernelspec": {
   "name": "python3",
   "display_name": "Python 3.9.1 64-bit ('venv': venv)",
   "metadata": {
    "interpreter": {
     "hash": "a8779ece58a9134745d76a48a2c55b4f5c8793f73fa7f30887806dc8b7d15f4e"
    }
   }
  }
 },
 "nbformat": 4,
 "nbformat_minor": 2,
 "cells": [
  {
   "source": [
    "# Importing embedded file\n"
   ],
   "cell_type": "markdown",
   "metadata": {}
  },
  {
   "cell_type": "code",
   "execution_count": 65,
   "metadata": {},
   "outputs": [],
   "source": [
    "import torch\n",
    "from pygel3d import hmesh, jupyter_display as jd\n",
    "import numpy as np\n",
    "\n",
    "tensor = torch.load(\"tensor.pt\")\n",
    "nparr = tensor.numpy()[:5000]"
   ]
  },
  {
   "cell_type": "code",
   "execution_count": 96,
   "metadata": {},
   "outputs": [],
   "source": [
    "m = hmesh.Manifold().from_points(nparr)\n",
    "m.cleanup()\n",
    "\n",
    "\n"
   ]
  },
  {
   "source": [
    "Creating a no edge graph"
   ],
   "cell_type": "markdown",
   "metadata": {}
  },
  {
   "cell_type": "code",
   "execution_count": 99,
   "metadata": {
    "tags": []
   },
   "outputs": [],
   "source": [
    "from pygel3d import graph\n",
    "g = graph.from_mesh(m)\n",
    "\n",
    "jd.display(g)\n",
    "\n",
    "for n in g.nodes():\n",
    "    for nex in g.neighbors(n, mode=\"n\"):\n",
    "        g.disconnect_nodes(n, nex)"
   ]
  },
  {
   "source": [
    "Creating a searchtree to get quicker findings of neighbours"
   ],
   "cell_type": "markdown",
   "metadata": {}
  },
  {
   "cell_type": "code",
   "execution_count": 94,
   "metadata": {
    "tags": []
   },
   "outputs": [],
   "source": [
    "from pygel3d import spatial\n",
    "searchtree = spatial.I3DTree()\n",
    "pos = g.positions()\n",
    "for n in g.nodes():\n",
    "    searchtree.insert(pos[n], n)\n",
    "searchtree.build()\n"
   ]
  },
  {
   "source": [
    "Connecting close neighbours. Can only be connected, if they are not already neighbours"
   ],
   "cell_type": "markdown",
   "metadata": {}
  }
 ]
}