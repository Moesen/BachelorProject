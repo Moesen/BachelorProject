{
 "metadata": {
  "language_info": {
   "codemirror_mode": {
    "name": "ipython",
    "version": 3
   },
   "file_extension": ".py",
   "mimetype": "text/x-python",
   "name": "python",
   "nbconvert_exporter": "python",
   "pygments_lexer": "ipython3",
   "version": "3.9.1"
  },
  "orig_nbformat": 2,
  "kernelspec": {
   "name": "python391jvsc74a57bd0a8779ece58a9134745d76a48a2c55b4f5c8793f73fa7f30887806dc8b7d15f4e",
   "display_name": "Python 3.9.1 64-bit ('venv')"
  }
 },
 "nbformat": 4,
 "nbformat_minor": 2,
 "cells": [
  {
   "cell_type": "code",
   "execution_count": 24,
   "metadata": {},
   "outputs": [],
   "source": [
    "import pymde"
   ]
  },
  {
   "cell_type": "code",
   "execution_count": 25,
   "metadata": {},
   "outputs": [],
   "source": [
    "from sklearn import datasets\n",
    "m = datasets.load_digits()"
   ]
  },
  {
   "cell_type": "code",
   "execution_count": 26,
   "metadata": {},
   "outputs": [
    {
     "output_type": "stream",
     "name": "stdout",
     "text": [
      "May 10 04:15:23 PM: Loading cached dataset.\n"
     ]
    }
   ],
   "source": [
    "# Loading MNIST digits dataset\n",
    "mnist = pymde.datasets.MNIST()"
   ]
  },
  {
   "cell_type": "code",
   "execution_count": 27,
   "metadata": {},
   "outputs": [],
   "source": [
    "from sklearn.model_selection import train_test_split\n",
    "import numpy as np\n",
    "import matplotlib.pyplot as plt\n",
    "\n",
    "lim = 20000\n",
    "\n",
    "labels = mnist.attributes[\"digits\"].numpy()[:10000]\n",
    "data = mnist.data.numpy()[:10000]\n",
    "\n",
    "(trainData, testData, trainLabels, testLabels) = train_test_split(data, labels, test_size=1/7, random_state=42)\n",
    "\n",
    "(trainData, valData, trainLabels, valLabels) = train_test_split(trainData, trainLabels, test_size=.1, random_state=84)"
   ]
  },
  {
   "cell_type": "code",
   "execution_count": 28,
   "metadata": {},
   "outputs": [
    {
     "output_type": "stream",
     "name": "stdout",
     "text": [
      "Training data points: 7713\nValidation data points: 858\nTesting data points: 1429\n"
     ]
    }
   ],
   "source": [
    "print(f\"Training data points: {len(trainLabels)}\")\n",
    "print(f\"Validation data points: {len(valLabels)}\")\n",
    "print(f\"Testing data points: {len(testLabels)}\")"
   ]
  },
  {
   "cell_type": "code",
   "execution_count": 29,
   "metadata": {},
   "outputs": [
    {
     "output_type": "stream",
     "name": "stdout",
     "text": [
      "k=1, accurazy=94.41\n",
      "k=3, accurazy=94.17\n",
      "k=5, accurazy=93.47\n",
      "k=7, accurazy=93.59\n",
      "k=9, accurazy=92.54\n",
      "k=11, accurazy=92.31\n",
      "k=13, accurazy=92.19\n",
      "k=15, accurazy=91.96\n",
      "k=17, accurazy=91.72\n",
      "k=19, accurazy=91.49\n",
      "k=21, accurazy=91.26\n",
      "k=23, accurazy=91.03\n",
      "k=25, accurazy=91.03\n",
      "k=27, accurazy=91.03\n",
      "k=29, accurazy=91.14\n"
     ]
    }
   ],
   "source": [
    "from sklearn.neighbors import KNeighborsClassifier\n",
    "kVals = range(1, 30, 2)\n",
    "accuracies = []\n",
    "\n",
    "for k in kVals:\n",
    "    model = KNeighborsClassifier(n_neighbors=k)\n",
    "    model.fit(trainData, trainLabels)\n",
    "\n",
    "    score = model.score(valData, valLabels)\n",
    "    print(\"k=%d, accurazy=%.2f\" % (k, score * 100))\n",
    "    accuracies.append(score)"
   ]
  },
  {
   "cell_type": "code",
   "execution_count": 30,
   "metadata": {},
   "outputs": [
    {
     "output_type": "stream",
     "name": "stdout",
     "text": [
      "k=1 achieved highest accurazy of 94.41% on validation data\n",
      "EVALUATION ON TESTING DATA\n",
      "              precision    recall  f1-score   support\n",
      "\n",
      "           0       0.94      0.99      0.97       152\n",
      "           1       0.93      1.00      0.96       143\n",
      "           2       0.98      0.97      0.97       145\n",
      "           3       0.93      0.90      0.92       142\n",
      "           4       0.97      0.94      0.96       150\n",
      "           5       0.96      0.94      0.95       135\n",
      "           6       0.99      0.99      0.99       157\n",
      "           7       0.94      0.97      0.96       146\n",
      "           8       0.96      0.88      0.92       117\n",
      "           9       0.92      0.94      0.93       142\n",
      "\n",
      "    accuracy                           0.95      1429\n",
      "   macro avg       0.95      0.95      0.95      1429\n",
      "weighted avg       0.95      0.95      0.95      1429\n",
      "\n"
     ]
    }
   ],
   "source": [
    "from sklearn.metrics import classification_report\n",
    "# largest accurazy\n",
    "# np.argmax returns the indices of the maximum values along an axis\n",
    "i = np.argmax(accuracies)\n",
    "print(\"k=%d achieved highest accurazy of %.2f%% on validation data\" % (kVals[i], accuracies[i] * 100))\n",
    "\n",
    "# Now that we know the best value of k, re-train the classifier\n",
    "model = KNeighborsClassifier(n_neighbors=kVals[i])\n",
    "model.fit(trainData, trainLabels)\n",
    "\n",
    "predictions = model.predict(testData)\n",
    "\n",
    "print(\"EVALUATION ON TESTING DATA\")\n",
    "print(classification_report(testLabels, predictions))"
   ]
  }
 ]
}